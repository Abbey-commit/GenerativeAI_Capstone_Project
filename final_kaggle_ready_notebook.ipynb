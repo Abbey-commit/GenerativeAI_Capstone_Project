{
 "cells": [
  {
   "cell_type": "markdown",
   "id": "80d54f17",
   "metadata": {},
   "source": [
    "\n",
    "# Capstone Project: AI-Powered Insights for Mental Health Drug Targets\n",
    "\n",
    "**Author:** [Your Name]  \n",
    "**Course:** Kaggle x Google Generative AI Intensive (2025)  \n",
    "**Use Case:** Improving drug target discovery for depression, psychosis, and anxiety using RAG + Gemini 2.0  \n",
    "**Gen AI Capabilities Used:** Embeddings, RAG, Vector DB, Prompt Engineering, Agent Reasoning\n",
    "\n",
    "---\n",
    "\n",
    "### 📌 Problem Statement\n",
    "Mental health disorders like **depression**, **anxiety**, and **psychosis** impact millions globally. Despite decades of research, drug discovery remains slow and expensive. This project proposes a solution using **Generative AI** to enhance literature analysis and retrieval on **potential drug targets** by combining:\n",
    "- Biomedical research data from PubMed\n",
    "- Gemini 2.0 LLM for document QA\n",
    "- Vector-based semantic search with FAISS\n",
    "\n",
    "---\n"
   ]
  }
 ],
 "metadata": {
  "kernelspec": {
   "display_name": "Python 3",
   "language": "python",
   "name": "python3"
  }
 },
 "nbformat": 4,
 "nbformat_minor": 5
}
